{
 "cells": [
  {
   "cell_type": "markdown",
   "metadata": {},
   "source": [
    "# Requirements and environment setup\n",
    "* Docker\n",
    "## Standing up Jupyter + Spark environment\n",
    "### I'm using the jupyter-all-spark Docker image to spin up both Jupyter and Spark. I'm using volume re-direction in Docker to allow for Notebook persistence outside of the Docker container.\n",
    "```bash\n",
    "docker run \\\n",
    "-d \\\n",
    "--restart=always \\\n",
    "--name jupyter-all-spark \\\n",
    "-p 8888:8888 -v /home/jasdav02/Jupyter:/home/jovyan/work \\\n",
    "jupyter/all-spark-notebook\n",
    "```\n",
    "### Once running, you'll need to fetch the authentication token\n",
    "```bash\n",
    "docker exec \\\n",
    "-it jupyter-all-spark \\\n",
    "jupyter notebook list\n",
    "```\n",
    "```\n",
    "Currently running servers:\n",
    "http://0.0.0.0:8888/?token=5a3cdff4f94f2b333774a49b763acc1b27e7bdeae1d4dc43 :: /home/jovyan\n",
    "```\n",
    "### With token in hand, point your browser to `http://localhost:8888`"
   ]
  },
  {
   "cell_type": "markdown",
   "metadata": {},
   "source": [
    "# Reading in data stored in ElasticSearch into Spark"
   ]
  },
  {
   "cell_type": "code",
   "execution_count": 2,
   "metadata": {},
   "outputs": [],
   "source": [
    "import pyspark\n",
    "import os\n",
    "from pyspark.sql import *\n",
    "from pyspark.sql.functions import *\n",
    "from pyspark.sql.types import *\n",
    "\n",
    "import datetime\n",
    "from datetime import timedelta, date"
   ]
  },
  {
   "cell_type": "markdown",
   "metadata": {},
   "source": [
    "# Download `Elasticsearch Hadoop` library provided by Elastic.co"
   ]
  },
  {
   "cell_type": "code",
   "execution_count": 2,
   "metadata": {},
   "outputs": [
    {
     "name": "stdout",
     "output_type": "stream",
     "text": [
      "--2020-01-28 18:00:16--  https://artifacts.elastic.co/downloads/elasticsearch-hadoop/elasticsearch-hadoop-7.4.2.zip\n",
      "Resolving artifacts.elastic.co (artifacts.elastic.co)... 151.101.130.222, 151.101.66.222, 151.101.194.222, ...\n",
      "Connecting to artifacts.elastic.co (artifacts.elastic.co)|151.101.130.222|:443... connected.\n",
      "HTTP request sent, awaiting response... 200 OK\n",
      "Length: 8694734 (8.3M) [application/zip]\n",
      "Saving to: ‘elasticsearch-hadoop-7.4.2.zip’\n",
      "\n",
      "elasticsearch-hadoo 100%[===================>]   8.29M  3.59MB/s    in 2.3s    \n",
      "\n",
      "2020-01-28 18:00:19 (3.59 MB/s) - ‘elasticsearch-hadoop-7.4.2.zip’ saved [8694734/8694734]\n",
      "\n",
      "Archive:  elasticsearch-hadoop-7.4.2.zip\n",
      "   creating: elasticsearch-hadoop-7.4.2/\n",
      "  inflating: elasticsearch-hadoop-7.4.2/NOTICE.txt  \n",
      "  inflating: elasticsearch-hadoop-7.4.2/README.md  \n",
      "  inflating: elasticsearch-hadoop-7.4.2/LICENSE.txt  \n",
      "   creating: elasticsearch-hadoop-7.4.2/dist/\n",
      "  inflating: elasticsearch-hadoop-7.4.2/dist/elasticsearch-hadoop-7.4.2.jar  \n",
      "  inflating: elasticsearch-hadoop-7.4.2/dist/elasticsearch-hadoop-7.4.2-javadoc.jar  \n",
      "  inflating: elasticsearch-hadoop-7.4.2/dist/elasticsearch-hadoop-7.4.2-sources.jar  \n",
      "  inflating: elasticsearch-hadoop-7.4.2/dist/elasticsearch-hadoop-mr-7.4.2.jar  \n",
      "  inflating: elasticsearch-hadoop-7.4.2/dist/elasticsearch-hadoop-mr-7.4.2-javadoc.jar  \n",
      "  inflating: elasticsearch-hadoop-7.4.2/dist/elasticsearch-hadoop-mr-7.4.2-sources.jar  \n",
      "  inflating: elasticsearch-hadoop-7.4.2/dist/elasticsearch-hadoop-hive-7.4.2.jar  \n",
      "  inflating: elasticsearch-hadoop-7.4.2/dist/elasticsearch-hadoop-hive-7.4.2-javadoc.jar  \n",
      "  inflating: elasticsearch-hadoop-7.4.2/dist/elasticsearch-hadoop-hive-7.4.2-sources.jar  \n",
      "  inflating: elasticsearch-hadoop-7.4.2/dist/elasticsearch-hadoop-pig-7.4.2.jar  \n",
      "  inflating: elasticsearch-hadoop-7.4.2/dist/elasticsearch-hadoop-pig-7.4.2-javadoc.jar  \n",
      "  inflating: elasticsearch-hadoop-7.4.2/dist/elasticsearch-hadoop-pig-7.4.2-sources.jar  \n",
      "  inflating: elasticsearch-hadoop-7.4.2/dist/elasticsearch-spark-20_2.11-7.4.2.jar  \n",
      "  inflating: elasticsearch-hadoop-7.4.2/dist/elasticsearch-spark-20_2.11-7.4.2-javadoc.jar  \n",
      "  inflating: elasticsearch-hadoop-7.4.2/dist/elasticsearch-spark-20_2.11-7.4.2-sources.jar  \n",
      "  inflating: elasticsearch-hadoop-7.4.2/dist/elasticsearch-storm-7.4.2.jar  \n",
      "  inflating: elasticsearch-hadoop-7.4.2/dist/elasticsearch-storm-7.4.2-javadoc.jar  \n",
      "  inflating: elasticsearch-hadoop-7.4.2/dist/elasticsearch-storm-7.4.2-sources.jar  \n"
     ]
    }
   ],
   "source": [
    "!rm -f /home/jovyan/elasticsearch-hadoop-7.4.2.zip; \\\n",
    "rm -rf /home/jovyan/elasticsearch-hadoop-7.4.2; \\\n",
    "cd /home/jovyan; \\\n",
    "wget https://artifacts.elastic.co/downloads/elasticsearch-hadoop/elasticsearch-hadoop-7.4.2.zip; \\\n",
    "unzip elasticsearch-hadoop-7.4.2.zip; \\\n",
    "rm -f /home/jovyan/elasticsearch-hadoop-7.4.2.zip"
   ]
  },
  {
   "cell_type": "markdown",
   "metadata": {},
   "source": [
    "# Setup Spark Environment incorporating the library we downloaded earlier"
   ]
  },
  {
   "cell_type": "code",
   "execution_count": 3,
   "metadata": {},
   "outputs": [],
   "source": [
    "#Change username to root to connect successfully to HDFS\n",
    "os.environ[\"HADOOP_USER_NAME\"] = \"root\"\n",
    "#Give this Spark instance a name\n",
    "jobName = \"Read_Diskover\"\n",
    "#We need to add ES-Hadoop to the dependency party\n",
    "os.environ['PYSPARK_SUBMIT_ARGS'] = '--conf spark.ui.port=5051 --jars /home/jovyan/elasticsearch-hadoop-7.4.2/dist/elasticsearch-spark-20_2.11-7.4.2.jar pyspark-shell'\n",
    "os.environ[\"SPARK_HOME\"] = \"/usr/local/spark\""
   ]
  },
  {
   "cell_type": "code",
   "execution_count": 5,
   "metadata": {},
   "outputs": [],
   "source": [
    "spark = SparkSession.builder \\\n",
    "       .appName(jobName) \\\n",
    "       .master(\"local[*]\") \\\n",
    "       .config('spark.executor.memory', '16G')\\\n",
    "       .config('spark.driver.memory', '4G')\\\n",
    "       .config('spark.driver.maxResultSize', '4G')\\\n",
    "       .getOrCreate()"
   ]
  },
  {
   "cell_type": "code",
   "execution_count": 5,
   "metadata": {},
   "outputs": [
    {
     "data": {
      "text/html": [
       "\n",
       "            <div>\n",
       "                <p><b>SparkSession - in-memory</b></p>\n",
       "                \n",
       "        <div>\n",
       "            <p><b>SparkContext</b></p>\n",
       "\n",
       "            <p><a href=\"http://2f29b3561d18:5051\">Spark UI</a></p>\n",
       "\n",
       "            <dl>\n",
       "              <dt>Version</dt>\n",
       "                <dd><code>v2.4.3</code></dd>\n",
       "              <dt>Master</dt>\n",
       "                <dd><code>local[*]</code></dd>\n",
       "              <dt>AppName</dt>\n",
       "                <dd><code>Read_Diskover</code></dd>\n",
       "            </dl>\n",
       "        </div>\n",
       "        \n",
       "            </div>\n",
       "        "
      ],
      "text/plain": [
       "<pyspark.sql.session.SparkSession at 0x7fad4c5c37f0>"
      ]
     },
     "execution_count": 5,
     "metadata": {},
     "output_type": "execute_result"
    }
   ],
   "source": [
    "spark"
   ]
  },
  {
   "cell_type": "markdown",
   "metadata": {},
   "source": [
    "# Elasticsearch cluster configuration. This is reading from a single node instance of Elasticsearch 7.x"
   ]
  },
  {
   "cell_type": "code",
   "execution_count": 6,
   "metadata": {},
   "outputs": [],
   "source": [
    "es_reader = (spark.read\n",
    "    .format(\"org.elasticsearch.spark.sql\")\n",
    "    .option(\"inferSchema\", \"true\")\n",
    "    .option(\"es.read.field.as.array.include\", \"tags\")\n",
    "    .option(\"es.nodes\",\"elasticsearch.local:9200\")\n",
    "    .option(\"es.nodes.wan.only\", \"true\"))"
   ]
  },
  {
   "cell_type": "markdown",
   "metadata": {},
   "source": [
    "# Let's get a list of scanned file systems as provided by `Diskover`."
   ]
  },
  {
   "cell_type": "code",
   "execution_count": 15,
   "metadata": {},
   "outputs": [
    {
     "name": "stdout",
     "output_type": "stream",
     "text": [
      "green  open   diskover-home-jasdav02                                  aCO6Aia0Q8eTND7ziXCUog   1   0      25617         3007      9.2mb          9.2mb\r\n"
     ]
    }
   ],
   "source": [
    "!curl -s -XGET 'http://elasticsearch.local:9200/_cat/indices?v&pretty' | grep home-jasdav02"
   ]
  },
  {
   "cell_type": "markdown",
   "metadata": {},
   "source": [
    "# Let's load one of the indexes in as a Spark Dataframe"
   ]
  },
  {
   "cell_type": "code",
   "execution_count": 8,
   "metadata": {},
   "outputs": [],
   "source": [
    "df = es_reader.load(\"diskover-home-jasdav02\")"
   ]
  },
  {
   "cell_type": "markdown",
   "metadata": {},
   "source": [
    "# Enable pretty output of Spark Dataframes"
   ]
  },
  {
   "cell_type": "code",
   "execution_count": 9,
   "metadata": {},
   "outputs": [],
   "source": [
    "spark.conf.set(\"spark.sql.repl.eagerEval.enabled\", True)"
   ]
  },
  {
   "cell_type": "markdown",
   "metadata": {},
   "source": [
    "# Show the first 20 lines in the Dataframe"
   ]
  },
  {
   "cell_type": "code",
   "execution_count": 10,
   "metadata": {},
   "outputs": [
    {
     "data": {
      "text/html": [
       "<table border='1'>\n",
       "<tr><th>available</th><th>bulk_time</th><th>change_percent_filesize</th><th>change_percent_items</th><th>change_percent_items_files</th><th>change_percent_items_subdirs</th><th>costpergb</th><th>crawl_time</th><th>dir_count</th><th>dupe_md5</th><th>extension</th><th>file_count</th><th>filehash</th><th>filename</th><th>filesize</th><th>free</th><th>group</th><th>hardlinks</th><th>indexing_date</th><th>inode</th><th>items</th><th>items_files</th><th>items_subdirs</th><th>last_access</th><th>last_change</th><th>last_modified</th><th>owner</th><th>path</th><th>path_parent</th><th>state</th><th>tag</th><th>tag_custom1</th><th>tag_custom2</th><th>tag_custom3</th><th>total</th><th>type</th><th>used</th><th>worker_name</th></tr>\n",
       "<tr><td>null</td><td>null</td><td>null</td><td>null</td><td>null</td><td>null</td><td>0.0</td><td>null</td><td>null</td><td>null</td><td>rb</td><td>null</td><td>21a90e297781c6306...</td><td>indirect_immediat...</td><td>1576</td><td>null</td><td>jasdav02</td><td>1</td><td>2019-12-11 17:04:...</td><td>97627154</td><td>null</td><td>null</td><td>null</td><td>2019-05-01 20:56:31</td><td>2018-09-26 19:20:21</td><td>2015-12-07 18:00:39</td><td>jasdav02</td><td>null</td><td>/home/jasdav02/LS...</td><td>null</td><td>null</td><td>null</td><td>null</td><td>null</td><td>null</td><td>file</td><td>null</td><td>hpc-admin0.9886</td></tr>\n",
       "<tr><td>null</td><td>null</td><td>null</td><td>null</td><td>null</td><td>null</td><td>0.0</td><td>null</td><td>null</td><td>null</td><td>rb</td><td>null</td><td>77b7566d48ea39460...</td><td>stack_event_colle...</td><td>1189</td><td>null</td><td>jasdav02</td><td>1</td><td>2019-12-11 17:04:...</td><td>85029547</td><td>null</td><td>null</td><td>null</td><td>2019-05-01 20:56:20</td><td>2018-09-26 19:20:17</td><td>2015-12-07 18:00:25</td><td>jasdav02</td><td>null</td><td>/home/jasdav02/LS...</td><td>null</td><td>null</td><td>null</td><td>null</td><td>null</td><td>null</td><td>file</td><td>null</td><td>hpc-admin0.9868</td></tr>\n",
       "<tr><td>null</td><td>null</td><td>null</td><td>null</td><td>null</td><td>null</td><td>0.0</td><td>null</td><td>null</td><td>null</td><td>rb</td><td>null</td><td>ba37c65f5814b701c...</td><td>java_thread_pool_...</td><td>4251</td><td>null</td><td>jasdav02</td><td>1</td><td>2019-12-11 17:04:...</td><td>97627156</td><td>null</td><td>null</td><td>null</td><td>2019-05-01 20:56:31</td><td>2018-09-26 19:20:21</td><td>2015-12-07 18:00:39</td><td>jasdav02</td><td>null</td><td>/home/jasdav02/LS...</td><td>null</td><td>null</td><td>null</td><td>null</td><td>null</td><td>null</td><td>file</td><td>null</td><td>hpc-admin0.9886</td></tr>\n",
       "<tr><td>null</td><td>null</td><td>null</td><td>null</td><td>null</td><td>null</td><td>0.0</td><td>null</td><td>null</td><td>null</td><td>rb</td><td>null</td><td>f605d95a628410141...</td><td>stack_options.rb</td><td>2186</td><td>null</td><td>jasdav02</td><td>1</td><td>2019-12-11 17:04:...</td><td>85029548</td><td>null</td><td>null</td><td>null</td><td>2019-05-01 20:56:20</td><td>2018-09-26 19:20:17</td><td>2015-12-07 18:00:25</td><td>jasdav02</td><td>null</td><td>/home/jasdav02/LS...</td><td>null</td><td>null</td><td>null</td><td>null</td><td>null</td><td>null</td><td>file</td><td>null</td><td>hpc-admin0.9868</td></tr>\n",
       "<tr><td>null</td><td>null</td><td>null</td><td>null</td><td>null</td><td>null</td><td>0.0</td><td>null</td><td>null</td><td>null</td><td>rb</td><td>null</td><td>06be9cfb84ca6e4ed...</td><td>ruby_thread_pool_...</td><td>10052</td><td>null</td><td>jasdav02</td><td>1</td><td>2019-12-11 17:04:...</td><td>83761260</td><td>null</td><td>null</td><td>null</td><td>2019-05-01 20:56:31</td><td>2018-09-26 19:20:21</td><td>2015-12-07 18:00:39</td><td>jasdav02</td><td>null</td><td>/home/jasdav02/LS...</td><td>null</td><td>null</td><td>null</td><td>null</td><td>null</td><td>null</td><td>file</td><td>null</td><td>hpc-admin0.9886</td></tr>\n",
       "<tr><td>null</td><td>null</td><td>null</td><td>null</td><td>null</td><td>null</td><td>0.0</td><td>null</td><td>null</td><td>null</td><td>h</td><td>null</td><td>76f52c9d1f3cd53aa...</td><td>packet-sprt.h</td><td>1424</td><td>null</td><td>docker</td><td>1</td><td>2019-12-11 17:04:...</td><td>77778711</td><td>null</td><td>null</td><td>null</td><td>2019-05-01 20:56:54</td><td>2015-07-15 21:29:25</td><td>2015-06-17 16:19:58</td><td>1001</td><td>null</td><td>/home/jasdav02/wi...</td><td>null</td><td>null</td><td>null</td><td>null</td><td>null</td><td>null</td><td>file</td><td>null</td><td>hpc-admin0.10015</td></tr>\n",
       "<tr><td>null</td><td>null</td><td>null</td><td>null</td><td>null</td><td>null</td><td>0.0</td><td>null</td><td>null</td><td>null</td><td>rb</td><td>null</td><td>e0a6d72098506eba3...</td><td>core_refinements_...</td><td>20062</td><td>null</td><td>jasdav02</td><td>1</td><td>2019-12-11 17:04:...</td><td>83933278</td><td>null</td><td>null</td><td>null</td><td>2019-05-01 20:59:24</td><td>2018-09-26 19:20:36</td><td>2015-12-07 18:03:14</td><td>jasdav02</td><td>null</td><td>/home/jasdav02/LS...</td><td>null</td><td>null</td><td>null</td><td>null</td><td>null</td><td>null</td><td>file</td><td>null</td><td>hpc-admin0.9896</td></tr>\n",
       "<tr><td>null</td><td>null</td><td>null</td><td>null</td><td>null</td><td>null</td><td>0.0</td><td>null</td><td>null</td><td>null</td><td>rb</td><td>null</td><td>5f8a8cac9115eace9...</td><td>stack_resource_su...</td><td>1912</td><td>null</td><td>jasdav02</td><td>1</td><td>2019-12-11 17:04:...</td><td>80709795</td><td>null</td><td>null</td><td>null</td><td>2019-05-01 20:56:20</td><td>2018-09-26 19:20:17</td><td>2015-12-07 18:00:25</td><td>jasdav02</td><td>null</td><td>/home/jasdav02/LS...</td><td>null</td><td>null</td><td>null</td><td>null</td><td>null</td><td>null</td><td>file</td><td>null</td><td>hpc-admin0.9868</td></tr>\n",
       "<tr><td>null</td><td>null</td><td>null</td><td>null</td><td>null</td><td>null</td><td>0.0</td><td>null</td><td>null</td><td>null</td><td>c</td><td>null</td><td>6a4377fa39040897e...</td><td>packet-tnef.c</td><td>31301</td><td>null</td><td>docker</td><td>1</td><td>2019-12-11 17:04:...</td><td>77778714</td><td>null</td><td>null</td><td>null</td><td>2019-05-01 20:56:54</td><td>2015-07-15 21:29:25</td><td>2015-06-17 16:19:58</td><td>1001</td><td>null</td><td>/home/jasdav02/wi...</td><td>null</td><td>null</td><td>null</td><td>null</td><td>null</td><td>null</td><td>file</td><td>null</td><td>hpc-admin0.10015</td></tr>\n",
       "<tr><td>null</td><td>null</td><td>null</td><td>null</td><td>null</td><td>null</td><td>0.0</td><td>null</td><td>null</td><td>null</td><td>rb</td><td>null</td><td>f6b4c7fbf9dae712a...</td><td>delay_add_associa...</td><td>1959</td><td>null</td><td>jasdav02</td><td>1</td><td>2019-12-11 17:04:...</td><td>78146582</td><td>null</td><td>null</td><td>null</td><td>2019-05-01 20:59:24</td><td>2018-09-26 19:20:36</td><td>2015-12-07 18:03:14</td><td>jasdav02</td><td>null</td><td>/home/jasdav02/LS...</td><td>null</td><td>null</td><td>null</td><td>null</td><td>null</td><td>null</td><td>file</td><td>null</td><td>hpc-admin0.9896</td></tr>\n",
       "<tr><td>null</td><td>null</td><td>null</td><td>null</td><td>null</td><td>null</td><td>0.0</td><td>null</td><td>null</td><td>null</td><td>rb</td><td>null</td><td>6a41ce64f0a6721e8...</td><td>debug.rb</td><td>939</td><td>null</td><td>jasdav02</td><td>1</td><td>2019-12-11 17:04:...</td><td>90305627</td><td>null</td><td>null</td><td>null</td><td>2019-05-01 20:56:26</td><td>2018-09-26 19:20:21</td><td>2015-12-07 18:00:38</td><td>jasdav02</td><td>null</td><td>/home/jasdav02/LS...</td><td>null</td><td>null</td><td>null</td><td>null</td><td>null</td><td>null</td><td>file</td><td>null</td><td>hpc-admin0.9868</td></tr>\n",
       "<tr><td>null</td><td>null</td><td>null</td><td>null</td><td>null</td><td>null</td><td>0.0</td><td>null</td><td>null</td><td>null</td><td>rb</td><td>null</td><td>bff4ec4d6bbedf699...</td><td>dirty_spec.rb</td><td>6592</td><td>null</td><td>jasdav02</td><td>1</td><td>2019-12-11 17:04:...</td><td>78146583</td><td>null</td><td>null</td><td>null</td><td>2019-05-01 20:59:24</td><td>2018-09-26 19:20:36</td><td>2015-12-07 18:03:14</td><td>jasdav02</td><td>null</td><td>/home/jasdav02/LS...</td><td>null</td><td>null</td><td>null</td><td>null</td><td>null</td><td>null</td><td>file</td><td>null</td><td>hpc-admin0.9896</td></tr>\n",
       "<tr><td>null</td><td>null</td><td>null</td><td>null</td><td>null</td><td>null</td><td>0.0</td><td>null</td><td>null</td><td>null</td><td>rb</td><td>null</td><td>1f8ec93e271065743...</td><td>debug_lint.rb</td><td>1460</td><td>null</td><td>jasdav02</td><td>1</td><td>2019-12-11 17:04:...</td><td>90305628</td><td>null</td><td>null</td><td>null</td><td>2019-05-01 20:56:26</td><td>2018-09-26 19:20:21</td><td>2015-12-07 18:00:38</td><td>jasdav02</td><td>null</td><td>/home/jasdav02/LS...</td><td>null</td><td>null</td><td>null</td><td>null</td><td>null</td><td>null</td><td>file</td><td>null</td><td>hpc-admin0.9868</td></tr>\n",
       "<tr><td>null</td><td>null</td><td>null</td><td>null</td><td>null</td><td>null</td><td>0.0</td><td>null</td><td>null</td><td>null</td><td>h</td><td>null</td><td>63c38af8848047145...</td><td>packet-yppasswd.h</td><td>1016</td><td>null</td><td>docker</td><td>1</td><td>2019-12-11 17:04:...</td><td>77778719</td><td>null</td><td>null</td><td>null</td><td>2019-05-01 20:56:55</td><td>2015-07-15 21:29:25</td><td>2015-06-17 16:19:58</td><td>1001</td><td>null</td><td>/home/jasdav02/wi...</td><td>null</td><td>null</td><td>null</td><td>null</td><td>null</td><td>null</td><td>file</td><td>null</td><td>hpc-admin0.10015</td></tr>\n",
       "<tr><td>null</td><td>null</td><td>null</td><td>null</td><td>null</td><td>null</td><td>0.0</td><td>null</td><td>null</td><td>null</td><td>rb</td><td>null</td><td>ac1ee0ee79b64d19d...</td><td>div.rb</td><td>426</td><td>null</td><td>jasdav02</td><td>1</td><td>2019-12-11 17:04:...</td><td>99659050</td><td>null</td><td>null</td><td>null</td><td>2019-05-01 20:56:26</td><td>2018-09-26 19:20:21</td><td>2015-12-07 18:00:38</td><td>jasdav02</td><td>null</td><td>/home/jasdav02/LS...</td><td>null</td><td>null</td><td>null</td><td>null</td><td>null</td><td>null</td><td>file</td><td>null</td><td>hpc-admin0.9868</td></tr>\n",
       "<tr><td>null</td><td>null</td><td>null</td><td>null</td><td>null</td><td>null</td><td>0.0</td><td>null</td><td>null</td><td>null</td><td>rb</td><td>null</td><td>741af91461a4eef92...</td><td>html.rb</td><td>9125</td><td>null</td><td>jasdav02</td><td>1</td><td>2019-12-11 17:04:...</td><td>99659056</td><td>null</td><td>null</td><td>null</td><td>2019-05-01 20:56:26</td><td>2018-09-26 19:20:21</td><td>2015-12-07 18:00:38</td><td>jasdav02</td><td>null</td><td>/home/jasdav02/LS...</td><td>null</td><td>null</td><td>null</td><td>null</td><td>null</td><td>null</td><td>file</td><td>null</td><td>hpc-admin0.9868</td></tr>\n",
       "<tr><td>null</td><td>null</td><td>null</td><td>null</td><td>null</td><td>null</td><td>0.0</td><td>null</td><td>null</td><td>null</td><td>rb</td><td>null</td><td>fe15db734df5bfb7b...</td><td>from_block_spec.rb</td><td>589</td><td>null</td><td>jasdav02</td><td>1</td><td>2019-12-11 17:04:...</td><td>90349095</td><td>null</td><td>null</td><td>null</td><td>2019-05-01 20:59:24</td><td>2018-09-26 19:20:36</td><td>2015-12-07 18:03:14</td><td>jasdav02</td><td>null</td><td>/home/jasdav02/LS...</td><td>null</td><td>null</td><td>null</td><td>null</td><td>null</td><td>null</td><td>file</td><td>null</td><td>hpc-admin0.9896</td></tr>\n",
       "<tr><td>null</td><td>null</td><td>null</td><td>null</td><td>null</td><td>null</td><td>0.0</td><td>null</td><td>null</td><td>null</td><td>rb</td><td>null</td><td>2b4d3c4189da8d1d7...</td><td>abstract_struct.rb</td><td>4078</td><td>null</td><td>jasdav02</td><td>1</td><td>2019-12-11 17:04:...</td><td>93031063</td><td>null</td><td>null</td><td>null</td><td>2019-05-01 20:56:31</td><td>2018-09-26 19:20:21</td><td>2015-12-07 18:00:39</td><td>jasdav02</td><td>null</td><td>/home/jasdav02/LS...</td><td>null</td><td>null</td><td>null</td><td>null</td><td>null</td><td>null</td><td>file</td><td>null</td><td>hpc-admin0.9886</td></tr>\n",
       "<tr><td>null</td><td>null</td><td>null</td><td>null</td><td>null</td><td>null</td><td>0.0</td><td>null</td><td>null</td><td>null</td><td>rb</td><td>null</td><td>4d1718985ec7a273b...</td><td>condition.rb</td><td>1079</td><td>null</td><td>jasdav02</td><td>1</td><td>2019-12-11 17:04:...</td><td>100368382</td><td>null</td><td>null</td><td>null</td><td>2019-05-01 20:56:31</td><td>2018-09-26 19:20:21</td><td>2015-12-07 18:00:39</td><td>jasdav02</td><td>null</td><td>/home/jasdav02/LS...</td><td>null</td><td>null</td><td>null</td><td>null</td><td>null</td><td>null</td><td>file</td><td>null</td><td>hpc-admin0.9886</td></tr>\n",
       "<tr><td>null</td><td>null</td><td>null</td><td>null</td><td>null</td><td>null</td><td>0.0</td><td>null</td><td>null</td><td>null</td><td>rb</td><td>null</td><td>87d71ceb7f3e5a2fc...</td><td>graph_each_spec.rb</td><td>7163</td><td>null</td><td>jasdav02</td><td>1</td><td>2019-12-11 17:04:...</td><td>90349098</td><td>null</td><td>null</td><td>null</td><td>2019-05-01 20:59:24</td><td>2018-09-26 19:20:36</td><td>2015-12-07 18:03:14</td><td>jasdav02</td><td>null</td><td>/home/jasdav02/LS...</td><td>null</td><td>null</td><td>null</td><td>null</td><td>null</td><td>null</td><td>file</td><td>null</td><td>hpc-admin0.9896</td></tr>\n",
       "</table>\n",
       "only showing top 20 rows\n"
      ],
      "text/plain": [
       "+---------+---------+-----------------------+--------------------+--------------------------+----------------------------+---------+----------+---------+--------+---------+----------+--------------------+--------------------+--------+----+--------+---------+--------------------+---------+-----+-----------+-------------+-------------------+-------------------+-------------------+--------+----+--------------------+-----+----+-----------+-----------+-----------+-----+----+----+----------------+\n",
       "|available|bulk_time|change_percent_filesize|change_percent_items|change_percent_items_files|change_percent_items_subdirs|costpergb|crawl_time|dir_count|dupe_md5|extension|file_count|            filehash|            filename|filesize|free|   group|hardlinks|       indexing_date|    inode|items|items_files|items_subdirs|        last_access|        last_change|      last_modified|   owner|path|         path_parent|state| tag|tag_custom1|tag_custom2|tag_custom3|total|type|used|     worker_name|\n",
       "+---------+---------+-----------------------+--------------------+--------------------------+----------------------------+---------+----------+---------+--------+---------+----------+--------------------+--------------------+--------+----+--------+---------+--------------------+---------+-----+-----------+-------------+-------------------+-------------------+-------------------+--------+----+--------------------+-----+----+-----------+-----------+-----------+-----+----+----+----------------+\n",
       "|     null|     null|                   null|                null|                      null|                        null|      0.0|      null|     null|    null|       rb|      null|21a90e297781c6306...|indirect_immediat...|    1576|null|jasdav02|        1|2019-12-11 17:04:...| 97627154| null|       null|         null|2019-05-01 20:56:31|2018-09-26 19:20:21|2015-12-07 18:00:39|jasdav02|null|/home/jasdav02/LS...| null|null|       null|       null|       null| null|file|null| hpc-admin0.9886|\n",
       "|     null|     null|                   null|                null|                      null|                        null|      0.0|      null|     null|    null|       rb|      null|77b7566d48ea39460...|stack_event_colle...|    1189|null|jasdav02|        1|2019-12-11 17:04:...| 85029547| null|       null|         null|2019-05-01 20:56:20|2018-09-26 19:20:17|2015-12-07 18:00:25|jasdav02|null|/home/jasdav02/LS...| null|null|       null|       null|       null| null|file|null| hpc-admin0.9868|\n",
       "|     null|     null|                   null|                null|                      null|                        null|      0.0|      null|     null|    null|       rb|      null|ba37c65f5814b701c...|java_thread_pool_...|    4251|null|jasdav02|        1|2019-12-11 17:04:...| 97627156| null|       null|         null|2019-05-01 20:56:31|2018-09-26 19:20:21|2015-12-07 18:00:39|jasdav02|null|/home/jasdav02/LS...| null|null|       null|       null|       null| null|file|null| hpc-admin0.9886|\n",
       "|     null|     null|                   null|                null|                      null|                        null|      0.0|      null|     null|    null|       rb|      null|f605d95a628410141...|    stack_options.rb|    2186|null|jasdav02|        1|2019-12-11 17:04:...| 85029548| null|       null|         null|2019-05-01 20:56:20|2018-09-26 19:20:17|2015-12-07 18:00:25|jasdav02|null|/home/jasdav02/LS...| null|null|       null|       null|       null| null|file|null| hpc-admin0.9868|\n",
       "|     null|     null|                   null|                null|                      null|                        null|      0.0|      null|     null|    null|       rb|      null|06be9cfb84ca6e4ed...|ruby_thread_pool_...|   10052|null|jasdav02|        1|2019-12-11 17:04:...| 83761260| null|       null|         null|2019-05-01 20:56:31|2018-09-26 19:20:21|2015-12-07 18:00:39|jasdav02|null|/home/jasdav02/LS...| null|null|       null|       null|       null| null|file|null| hpc-admin0.9886|\n",
       "|     null|     null|                   null|                null|                      null|                        null|      0.0|      null|     null|    null|        h|      null|76f52c9d1f3cd53aa...|       packet-sprt.h|    1424|null|  docker|        1|2019-12-11 17:04:...| 77778711| null|       null|         null|2019-05-01 20:56:54|2015-07-15 21:29:25|2015-06-17 16:19:58|    1001|null|/home/jasdav02/wi...| null|null|       null|       null|       null| null|file|null|hpc-admin0.10015|\n",
       "|     null|     null|                   null|                null|                      null|                        null|      0.0|      null|     null|    null|       rb|      null|e0a6d72098506eba3...|core_refinements_...|   20062|null|jasdav02|        1|2019-12-11 17:04:...| 83933278| null|       null|         null|2019-05-01 20:59:24|2018-09-26 19:20:36|2015-12-07 18:03:14|jasdav02|null|/home/jasdav02/LS...| null|null|       null|       null|       null| null|file|null| hpc-admin0.9896|\n",
       "|     null|     null|                   null|                null|                      null|                        null|      0.0|      null|     null|    null|       rb|      null|5f8a8cac9115eace9...|stack_resource_su...|    1912|null|jasdav02|        1|2019-12-11 17:04:...| 80709795| null|       null|         null|2019-05-01 20:56:20|2018-09-26 19:20:17|2015-12-07 18:00:25|jasdav02|null|/home/jasdav02/LS...| null|null|       null|       null|       null| null|file|null| hpc-admin0.9868|\n",
       "|     null|     null|                   null|                null|                      null|                        null|      0.0|      null|     null|    null|        c|      null|6a4377fa39040897e...|       packet-tnef.c|   31301|null|  docker|        1|2019-12-11 17:04:...| 77778714| null|       null|         null|2019-05-01 20:56:54|2015-07-15 21:29:25|2015-06-17 16:19:58|    1001|null|/home/jasdav02/wi...| null|null|       null|       null|       null| null|file|null|hpc-admin0.10015|\n",
       "|     null|     null|                   null|                null|                      null|                        null|      0.0|      null|     null|    null|       rb|      null|f6b4c7fbf9dae712a...|delay_add_associa...|    1959|null|jasdav02|        1|2019-12-11 17:04:...| 78146582| null|       null|         null|2019-05-01 20:59:24|2018-09-26 19:20:36|2015-12-07 18:03:14|jasdav02|null|/home/jasdav02/LS...| null|null|       null|       null|       null| null|file|null| hpc-admin0.9896|\n",
       "|     null|     null|                   null|                null|                      null|                        null|      0.0|      null|     null|    null|       rb|      null|6a41ce64f0a6721e8...|            debug.rb|     939|null|jasdav02|        1|2019-12-11 17:04:...| 90305627| null|       null|         null|2019-05-01 20:56:26|2018-09-26 19:20:21|2015-12-07 18:00:38|jasdav02|null|/home/jasdav02/LS...| null|null|       null|       null|       null| null|file|null| hpc-admin0.9868|\n",
       "|     null|     null|                   null|                null|                      null|                        null|      0.0|      null|     null|    null|       rb|      null|bff4ec4d6bbedf699...|       dirty_spec.rb|    6592|null|jasdav02|        1|2019-12-11 17:04:...| 78146583| null|       null|         null|2019-05-01 20:59:24|2018-09-26 19:20:36|2015-12-07 18:03:14|jasdav02|null|/home/jasdav02/LS...| null|null|       null|       null|       null| null|file|null| hpc-admin0.9896|\n",
       "|     null|     null|                   null|                null|                      null|                        null|      0.0|      null|     null|    null|       rb|      null|1f8ec93e271065743...|       debug_lint.rb|    1460|null|jasdav02|        1|2019-12-11 17:04:...| 90305628| null|       null|         null|2019-05-01 20:56:26|2018-09-26 19:20:21|2015-12-07 18:00:38|jasdav02|null|/home/jasdav02/LS...| null|null|       null|       null|       null| null|file|null| hpc-admin0.9868|\n",
       "|     null|     null|                   null|                null|                      null|                        null|      0.0|      null|     null|    null|        h|      null|63c38af8848047145...|   packet-yppasswd.h|    1016|null|  docker|        1|2019-12-11 17:04:...| 77778719| null|       null|         null|2019-05-01 20:56:55|2015-07-15 21:29:25|2015-06-17 16:19:58|    1001|null|/home/jasdav02/wi...| null|null|       null|       null|       null| null|file|null|hpc-admin0.10015|\n",
       "|     null|     null|                   null|                null|                      null|                        null|      0.0|      null|     null|    null|       rb|      null|ac1ee0ee79b64d19d...|              div.rb|     426|null|jasdav02|        1|2019-12-11 17:04:...| 99659050| null|       null|         null|2019-05-01 20:56:26|2018-09-26 19:20:21|2015-12-07 18:00:38|jasdav02|null|/home/jasdav02/LS...| null|null|       null|       null|       null| null|file|null| hpc-admin0.9868|\n",
       "|     null|     null|                   null|                null|                      null|                        null|      0.0|      null|     null|    null|       rb|      null|741af91461a4eef92...|             html.rb|    9125|null|jasdav02|        1|2019-12-11 17:04:...| 99659056| null|       null|         null|2019-05-01 20:56:26|2018-09-26 19:20:21|2015-12-07 18:00:38|jasdav02|null|/home/jasdav02/LS...| null|null|       null|       null|       null| null|file|null| hpc-admin0.9868|\n",
       "|     null|     null|                   null|                null|                      null|                        null|      0.0|      null|     null|    null|       rb|      null|fe15db734df5bfb7b...|  from_block_spec.rb|     589|null|jasdav02|        1|2019-12-11 17:04:...| 90349095| null|       null|         null|2019-05-01 20:59:24|2018-09-26 19:20:36|2015-12-07 18:03:14|jasdav02|null|/home/jasdav02/LS...| null|null|       null|       null|       null| null|file|null| hpc-admin0.9896|\n",
       "|     null|     null|                   null|                null|                      null|                        null|      0.0|      null|     null|    null|       rb|      null|2b4d3c4189da8d1d7...|  abstract_struct.rb|    4078|null|jasdav02|        1|2019-12-11 17:04:...| 93031063| null|       null|         null|2019-05-01 20:56:31|2018-09-26 19:20:21|2015-12-07 18:00:39|jasdav02|null|/home/jasdav02/LS...| null|null|       null|       null|       null| null|file|null| hpc-admin0.9886|\n",
       "|     null|     null|                   null|                null|                      null|                        null|      0.0|      null|     null|    null|       rb|      null|4d1718985ec7a273b...|        condition.rb|    1079|null|jasdav02|        1|2019-12-11 17:04:...|100368382| null|       null|         null|2019-05-01 20:56:31|2018-09-26 19:20:21|2015-12-07 18:00:39|jasdav02|null|/home/jasdav02/LS...| null|null|       null|       null|       null| null|file|null| hpc-admin0.9886|\n",
       "|     null|     null|                   null|                null|                      null|                        null|      0.0|      null|     null|    null|       rb|      null|87d71ceb7f3e5a2fc...|  graph_each_spec.rb|    7163|null|jasdav02|        1|2019-12-11 17:04:...| 90349098| null|       null|         null|2019-05-01 20:59:24|2018-09-26 19:20:36|2015-12-07 18:03:14|jasdav02|null|/home/jasdav02/LS...| null|null|       null|       null|       null| null|file|null| hpc-admin0.9896|\n",
       "+---------+---------+-----------------------+--------------------+--------------------------+----------------------------+---------+----------+---------+--------+---------+----------+--------------------+--------------------+--------+----+--------+---------+--------------------+---------+-----+-----------+-------------+-------------------+-------------------+-------------------+--------+----+--------------------+-----+----+-----------+-----------+-----------+-----+----+----+----------------+\n",
       "only showing top 20 rows"
      ]
     },
     "execution_count": 10,
     "metadata": {},
     "output_type": "execute_result"
    }
   ],
   "source": [
    "df"
   ]
  },
  {
   "cell_type": "markdown",
   "metadata": {},
   "source": [
    "# Show schema"
   ]
  },
  {
   "cell_type": "code",
   "execution_count": 11,
   "metadata": {},
   "outputs": [
    {
     "name": "stdout",
     "output_type": "stream",
     "text": [
      "root\n",
      " |-- available: long (nullable = true)\n",
      " |-- bulk_time: float (nullable = true)\n",
      " |-- change_percent_filesize: float (nullable = true)\n",
      " |-- change_percent_items: float (nullable = true)\n",
      " |-- change_percent_items_files: float (nullable = true)\n",
      " |-- change_percent_items_subdirs: float (nullable = true)\n",
      " |-- costpergb: double (nullable = true)\n",
      " |-- crawl_time: float (nullable = true)\n",
      " |-- dir_count: integer (nullable = true)\n",
      " |-- dupe_md5: string (nullable = true)\n",
      " |-- extension: string (nullable = true)\n",
      " |-- file_count: integer (nullable = true)\n",
      " |-- filehash: string (nullable = true)\n",
      " |-- filename: string (nullable = true)\n",
      " |-- filesize: long (nullable = true)\n",
      " |-- free: long (nullable = true)\n",
      " |-- group: string (nullable = true)\n",
      " |-- hardlinks: integer (nullable = true)\n",
      " |-- indexing_date: timestamp (nullable = true)\n",
      " |-- inode: string (nullable = true)\n",
      " |-- items: long (nullable = true)\n",
      " |-- items_files: long (nullable = true)\n",
      " |-- items_subdirs: long (nullable = true)\n",
      " |-- last_access: timestamp (nullable = true)\n",
      " |-- last_change: timestamp (nullable = true)\n",
      " |-- last_modified: timestamp (nullable = true)\n",
      " |-- owner: string (nullable = true)\n",
      " |-- path: string (nullable = true)\n",
      " |-- path_parent: string (nullable = true)\n",
      " |-- state: string (nullable = true)\n",
      " |-- tag: string (nullable = true)\n",
      " |-- tag_custom1: string (nullable = true)\n",
      " |-- tag_custom2: string (nullable = true)\n",
      " |-- tag_custom3: string (nullable = true)\n",
      " |-- total: long (nullable = true)\n",
      " |-- type: string (nullable = true)\n",
      " |-- used: long (nullable = true)\n",
      " |-- worker_name: string (nullable = true)\n",
      "\n"
     ]
    }
   ],
   "source": [
    "df.printSchema()"
   ]
  },
  {
   "cell_type": "markdown",
   "metadata": {},
   "source": [
    "# Select only fields of interest and display"
   ]
  },
  {
   "cell_type": "code",
   "execution_count": 12,
   "metadata": {},
   "outputs": [
    {
     "data": {
      "text/html": [
       "<table border='1'>\n",
       "<tr><th>indexing_date</th><th>path_parent</th><th>filename</th><th>filesize</th><th>extension</th></tr>\n",
       "<tr><td>2019-12-11 17:04:...</td><td>/home/jasdav02/LS...</td><td>indirect_immediat...</td><td>1576</td><td>rb</td></tr>\n",
       "<tr><td>2019-12-11 17:04:...</td><td>/home/jasdav02/LS...</td><td>stack_event_colle...</td><td>1189</td><td>rb</td></tr>\n",
       "<tr><td>2019-12-11 17:04:...</td><td>/home/jasdav02/LS...</td><td>java_thread_pool_...</td><td>4251</td><td>rb</td></tr>\n",
       "<tr><td>2019-12-11 17:04:...</td><td>/home/jasdav02/LS...</td><td>stack_options.rb</td><td>2186</td><td>rb</td></tr>\n",
       "<tr><td>2019-12-11 17:04:...</td><td>/home/jasdav02/LS...</td><td>ruby_thread_pool_...</td><td>10052</td><td>rb</td></tr>\n",
       "<tr><td>2019-12-11 17:04:...</td><td>/home/jasdav02/wi...</td><td>packet-sprt.h</td><td>1424</td><td>h</td></tr>\n",
       "<tr><td>2019-12-11 17:04:...</td><td>/home/jasdav02/LS...</td><td>core_refinements_...</td><td>20062</td><td>rb</td></tr>\n",
       "<tr><td>2019-12-11 17:04:...</td><td>/home/jasdav02/LS...</td><td>stack_resource_su...</td><td>1912</td><td>rb</td></tr>\n",
       "<tr><td>2019-12-11 17:04:...</td><td>/home/jasdav02/wi...</td><td>packet-tnef.c</td><td>31301</td><td>c</td></tr>\n",
       "<tr><td>2019-12-11 17:04:...</td><td>/home/jasdav02/LS...</td><td>delay_add_associa...</td><td>1959</td><td>rb</td></tr>\n",
       "<tr><td>2019-12-11 17:04:...</td><td>/home/jasdav02/LS...</td><td>debug.rb</td><td>939</td><td>rb</td></tr>\n",
       "<tr><td>2019-12-11 17:04:...</td><td>/home/jasdav02/LS...</td><td>dirty_spec.rb</td><td>6592</td><td>rb</td></tr>\n",
       "<tr><td>2019-12-11 17:04:...</td><td>/home/jasdav02/LS...</td><td>debug_lint.rb</td><td>1460</td><td>rb</td></tr>\n",
       "<tr><td>2019-12-11 17:04:...</td><td>/home/jasdav02/wi...</td><td>packet-yppasswd.h</td><td>1016</td><td>h</td></tr>\n",
       "<tr><td>2019-12-11 17:04:...</td><td>/home/jasdav02/LS...</td><td>div.rb</td><td>426</td><td>rb</td></tr>\n",
       "<tr><td>2019-12-11 17:04:...</td><td>/home/jasdav02/LS...</td><td>html.rb</td><td>9125</td><td>rb</td></tr>\n",
       "<tr><td>2019-12-11 17:04:...</td><td>/home/jasdav02/LS...</td><td>from_block_spec.rb</td><td>589</td><td>rb</td></tr>\n",
       "<tr><td>2019-12-11 17:04:...</td><td>/home/jasdav02/LS...</td><td>abstract_struct.rb</td><td>4078</td><td>rb</td></tr>\n",
       "<tr><td>2019-12-11 17:04:...</td><td>/home/jasdav02/LS...</td><td>condition.rb</td><td>1079</td><td>rb</td></tr>\n",
       "<tr><td>2019-12-11 17:04:...</td><td>/home/jasdav02/LS...</td><td>graph_each_spec.rb</td><td>7163</td><td>rb</td></tr>\n",
       "</table>\n",
       "only showing top 20 rows\n"
      ],
      "text/plain": [
       "+--------------------+--------------------+--------------------+--------+---------+\n",
       "|       indexing_date|         path_parent|            filename|filesize|extension|\n",
       "+--------------------+--------------------+--------------------+--------+---------+\n",
       "|2019-12-11 17:04:...|/home/jasdav02/LS...|indirect_immediat...|    1576|       rb|\n",
       "|2019-12-11 17:04:...|/home/jasdav02/LS...|stack_event_colle...|    1189|       rb|\n",
       "|2019-12-11 17:04:...|/home/jasdav02/LS...|java_thread_pool_...|    4251|       rb|\n",
       "|2019-12-11 17:04:...|/home/jasdav02/LS...|    stack_options.rb|    2186|       rb|\n",
       "|2019-12-11 17:04:...|/home/jasdav02/LS...|ruby_thread_pool_...|   10052|       rb|\n",
       "|2019-12-11 17:04:...|/home/jasdav02/wi...|       packet-sprt.h|    1424|        h|\n",
       "|2019-12-11 17:04:...|/home/jasdav02/LS...|core_refinements_...|   20062|       rb|\n",
       "|2019-12-11 17:04:...|/home/jasdav02/LS...|stack_resource_su...|    1912|       rb|\n",
       "|2019-12-11 17:04:...|/home/jasdav02/wi...|       packet-tnef.c|   31301|        c|\n",
       "|2019-12-11 17:04:...|/home/jasdav02/LS...|delay_add_associa...|    1959|       rb|\n",
       "|2019-12-11 17:04:...|/home/jasdav02/LS...|            debug.rb|     939|       rb|\n",
       "|2019-12-11 17:04:...|/home/jasdav02/LS...|       dirty_spec.rb|    6592|       rb|\n",
       "|2019-12-11 17:04:...|/home/jasdav02/LS...|       debug_lint.rb|    1460|       rb|\n",
       "|2019-12-11 17:04:...|/home/jasdav02/wi...|   packet-yppasswd.h|    1016|        h|\n",
       "|2019-12-11 17:04:...|/home/jasdav02/LS...|              div.rb|     426|       rb|\n",
       "|2019-12-11 17:04:...|/home/jasdav02/LS...|             html.rb|    9125|       rb|\n",
       "|2019-12-11 17:04:...|/home/jasdav02/LS...|  from_block_spec.rb|     589|       rb|\n",
       "|2019-12-11 17:04:...|/home/jasdav02/LS...|  abstract_struct.rb|    4078|       rb|\n",
       "|2019-12-11 17:04:...|/home/jasdav02/LS...|        condition.rb|    1079|       rb|\n",
       "|2019-12-11 17:04:...|/home/jasdav02/LS...|  graph_each_spec.rb|    7163|       rb|\n",
       "+--------------------+--------------------+--------------------+--------+---------+\n",
       "only showing top 20 rows"
      ]
     },
     "execution_count": 12,
     "metadata": {},
     "output_type": "execute_result"
    }
   ],
   "source": [
    "df.select('indexing_date','path_parent','filename','filesize','extension')"
   ]
  },
  {
   "cell_type": "markdown",
   "metadata": {},
   "source": [
    "# Calculate total size consumed by files in GiB"
   ]
  },
  {
   "cell_type": "code",
   "execution_count": 14,
   "metadata": {},
   "outputs": [
    {
     "data": {
      "text/html": [
       "<table border='1'>\n",
       "<tr><th>(sum(filesize) / 1074000000)</th></tr>\n",
       "<tr><td>10.432978512104283</td></tr>\n",
       "</table>\n"
      ],
      "text/plain": [
       "+----------------------------+\n",
       "|(sum(filesize) / 1074000000)|\n",
       "+----------------------------+\n",
       "|          10.432978512104283|\n",
       "+----------------------------+"
      ]
     },
     "execution_count": 14,
     "metadata": {},
     "output_type": "execute_result"
    }
   ],
   "source": [
    "size = df.agg(sum('filesize')/1074000000)\n",
    "size"
   ]
  }
 ],
 "metadata": {
  "kernelspec": {
   "display_name": "Python 3",
   "language": "python",
   "name": "python3"
  },
  "language_info": {
   "codemirror_mode": {
    "name": "ipython",
    "version": 3
   },
   "file_extension": ".py",
   "mimetype": "text/x-python",
   "name": "python",
   "nbconvert_exporter": "python",
   "pygments_lexer": "ipython3",
   "version": "3.7.3"
  }
 },
 "nbformat": 4,
 "nbformat_minor": 2
}
